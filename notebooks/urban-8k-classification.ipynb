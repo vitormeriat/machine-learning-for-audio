{
 "cells": [
  {
   "cell_type": "markdown",
   "metadata": {},
   "source": [
    "# Urban 8k Audio Classification Project"
   ]
  },
  {
   "cell_type": "code",
   "execution_count": 1,
   "metadata": {
    "id": "Fmxo4f8Jc0ha"
   },
   "outputs": [],
   "source": [
    "import os\n",
    "import librosa\n",
    "import numpy as np\n",
    "import pandas as pd\n",
    "from tqdm import tqdm\n",
    "import matplotlib.pyplot as plt\n",
    "\n",
    "#Libraries for Classification Models\n",
    "import tensorflow as tf\n",
    "from tensorflow.keras.models import Sequential\n",
    "from tensorflow.keras.layers import Conv2D, Flatten, Dense, MaxPool2D, Dropout\n",
    "from tensorflow.keras.utils import to_categorical \n",
    "from sklearn.ensemble import RandomForestClassifier\n",
    "from sklearn.svm import SVC\n",
    "\n",
    "from sklearn.model_selection import train_test_split\n",
    "from sklearn.metrics import classification_report\n",
    "from sklearn.model_selection import GridSearchCV\n",
    "from sklearn.preprocessing import MinMaxScaler"
   ]
  },
  {
   "cell_type": "markdown",
   "metadata": {
    "id": "hQ56w6PYc4T3"
   },
   "source": [
    "## Data Processing"
   ]
  },
  {
   "cell_type": "code",
   "execution_count": 2,
   "metadata": {
    "colab": {
     "base_uri": "https://localhost:8080/"
    },
    "id": "zVXDcKRtc6a8",
    "outputId": "4fc1de92-45af-44c9-e09b-b3f5bbb590c3"
   },
   "outputs": [
    {
     "name": "stdout",
     "output_type": "stream",
     "text": [
      "--2021-11-21 09:42:56--  https://zenodo.org/record/1203745/files/UrbanSound8K.tar.gz\n",
      "Resolving zenodo.org (zenodo.org)... 137.138.76.77\n",
      "Connecting to zenodo.org (zenodo.org)|137.138.76.77|:443... connected.\n",
      "HTTP request sent, awaiting response... 200 OK\n",
      "Length: 6023741708 (5.6G) [application/octet-stream]\n",
      "Saving to: ‘urban8k.tgz’\n",
      "\n",
      "urban8k.tgz         100%[===================>]   5.61G  19.4MB/s    in 4m 50s  \n",
      "\n",
      "2021-11-21 09:47:47 (19.8 MB/s) - ‘urban8k.tgz’ saved [6023741708/6023741708]\n",
      "\n"
     ]
    }
   ],
   "source": [
    "# Unzip dataset\n",
    "!wget https://zenodo.org/record/1203745/files/UrbanSound8K.tar.gz -O urban8k.tgz\n",
    "!tar -xzf urban8k.tgz\n",
    "!rm urban8k.tgz"
   ]
  },
  {
   "cell_type": "markdown",
   "metadata": {
    "id": "YIhihBoDdYPX"
   },
   "source": [
    "## Data Analysis\n",
    "\n",
    "We will perform a set of data analysis steps to observe and see patterns in the data given and choose the best modeling accordingly. \n",
    "\n",
    "### Data Statistics\n",
    "We want to see how the audio files were recorded and how the different classes are distributed."
   ]
  },
  {
   "cell_type": "code",
   "execution_count": 3,
   "metadata": {
    "id": "FzGuL4U3dZa6"
   },
   "outputs": [],
   "source": [
    "def create_dataset_df(csv_file):\n",
    "    dataset_df = pd.read_csv(csv_file)\n",
    "    filepaths = []\n",
    "    for i, row in dataset_df.iterrows():\n",
    "        filepaths.append(os.path.join('UrbanSound8K/audio', 'fold'+str(row['fold']), row['slice_file_name']))\n",
    "    dataset_df['filepath'] = filepaths\n",
    "    return dataset_df"
   ]
  },
  {
   "cell_type": "code",
   "execution_count": 4,
   "metadata": {
    "colab": {
     "base_uri": "https://localhost:8080/",
     "height": 203
    },
    "id": "HABnZGV2dev-",
    "outputId": "19d873b5-b5bb-48b6-874c-662bf0dfd204"
   },
   "outputs": [
    {
     "data": {
      "text/html": [
       "<div>\n",
       "<style scoped>\n",
       "    .dataframe tbody tr th:only-of-type {\n",
       "        vertical-align: middle;\n",
       "    }\n",
       "\n",
       "    .dataframe tbody tr th {\n",
       "        vertical-align: top;\n",
       "    }\n",
       "\n",
       "    .dataframe thead th {\n",
       "        text-align: right;\n",
       "    }\n",
       "</style>\n",
       "<table border=\"1\" class=\"dataframe\">\n",
       "  <thead>\n",
       "    <tr style=\"text-align: right;\">\n",
       "      <th></th>\n",
       "      <th>slice_file_name</th>\n",
       "      <th>fsID</th>\n",
       "      <th>start</th>\n",
       "      <th>end</th>\n",
       "      <th>salience</th>\n",
       "      <th>fold</th>\n",
       "      <th>classID</th>\n",
       "      <th>class</th>\n",
       "      <th>filepath</th>\n",
       "    </tr>\n",
       "  </thead>\n",
       "  <tbody>\n",
       "    <tr>\n",
       "      <th>0</th>\n",
       "      <td>100032-3-0-0.wav</td>\n",
       "      <td>100032</td>\n",
       "      <td>0.0</td>\n",
       "      <td>0.317551</td>\n",
       "      <td>1</td>\n",
       "      <td>5</td>\n",
       "      <td>3</td>\n",
       "      <td>dog_bark</td>\n",
       "      <td>UrbanSound8K/audio/fold5/100032-3-0-0.wav</td>\n",
       "    </tr>\n",
       "    <tr>\n",
       "      <th>1</th>\n",
       "      <td>100263-2-0-117.wav</td>\n",
       "      <td>100263</td>\n",
       "      <td>58.5</td>\n",
       "      <td>62.500000</td>\n",
       "      <td>1</td>\n",
       "      <td>5</td>\n",
       "      <td>2</td>\n",
       "      <td>children_playing</td>\n",
       "      <td>UrbanSound8K/audio/fold5/100263-2-0-117.wav</td>\n",
       "    </tr>\n",
       "    <tr>\n",
       "      <th>2</th>\n",
       "      <td>100263-2-0-121.wav</td>\n",
       "      <td>100263</td>\n",
       "      <td>60.5</td>\n",
       "      <td>64.500000</td>\n",
       "      <td>1</td>\n",
       "      <td>5</td>\n",
       "      <td>2</td>\n",
       "      <td>children_playing</td>\n",
       "      <td>UrbanSound8K/audio/fold5/100263-2-0-121.wav</td>\n",
       "    </tr>\n",
       "    <tr>\n",
       "      <th>3</th>\n",
       "      <td>100263-2-0-126.wav</td>\n",
       "      <td>100263</td>\n",
       "      <td>63.0</td>\n",
       "      <td>67.000000</td>\n",
       "      <td>1</td>\n",
       "      <td>5</td>\n",
       "      <td>2</td>\n",
       "      <td>children_playing</td>\n",
       "      <td>UrbanSound8K/audio/fold5/100263-2-0-126.wav</td>\n",
       "    </tr>\n",
       "    <tr>\n",
       "      <th>4</th>\n",
       "      <td>100263-2-0-137.wav</td>\n",
       "      <td>100263</td>\n",
       "      <td>68.5</td>\n",
       "      <td>72.500000</td>\n",
       "      <td>1</td>\n",
       "      <td>5</td>\n",
       "      <td>2</td>\n",
       "      <td>children_playing</td>\n",
       "      <td>UrbanSound8K/audio/fold5/100263-2-0-137.wav</td>\n",
       "    </tr>\n",
       "  </tbody>\n",
       "</table>\n",
       "</div>"
      ],
      "text/plain": [
       "      slice_file_name  ...                                     filepath\n",
       "0    100032-3-0-0.wav  ...    UrbanSound8K/audio/fold5/100032-3-0-0.wav\n",
       "1  100263-2-0-117.wav  ...  UrbanSound8K/audio/fold5/100263-2-0-117.wav\n",
       "2  100263-2-0-121.wav  ...  UrbanSound8K/audio/fold5/100263-2-0-121.wav\n",
       "3  100263-2-0-126.wav  ...  UrbanSound8K/audio/fold5/100263-2-0-126.wav\n",
       "4  100263-2-0-137.wav  ...  UrbanSound8K/audio/fold5/100263-2-0-137.wav\n",
       "\n",
       "[5 rows x 9 columns]"
      ]
     },
     "execution_count": 4,
     "metadata": {},
     "output_type": "execute_result"
    }
   ],
   "source": [
    "df = create_dataset_df('UrbanSound8K/metadata/UrbanSound8K.csv')\n",
    "df.head()"
   ]
  },
  {
   "cell_type": "code",
   "execution_count": 5,
   "metadata": {
    "colab": {
     "base_uri": "https://localhost:8080/"
    },
    "id": "9r_6EycSeDnB",
    "outputId": "42182e0a-a5eb-433c-e435-e27e6b46d4e6"
   },
   "outputs": [
    {
     "name": "stdout",
     "output_type": "stream",
     "text": [
      "Count in each class of urban sound 8k dataset=\n",
      "\n",
      "dog_bark            1000\n",
      "children_playing    1000\n",
      "engine_idling       1000\n",
      "jackhammer          1000\n",
      "street_music        1000\n",
      "drilling            1000\n",
      "air_conditioner     1000\n",
      "siren                929\n",
      "car_horn             429\n",
      "gun_shot             374\n",
      "Name: class, dtype: int64\n",
      "\n",
      "Number of training sets and val sets=  8732 \n",
      "Number of classes=  10\n"
     ]
    }
   ],
   "source": [
    "print(\"Count in each class of urban sound 8k dataset=\\n\")\n",
    "print(df['class'].value_counts())\n",
    "print(\"\\nNumber of training sets and val sets= \",df.shape[0],\"\\nNumber of classes= \",len(df['class'].unique()))"
   ]
  },
  {
   "cell_type": "code",
   "execution_count": 6,
   "metadata": {
    "id": "YIMojDWRejMJ"
   },
   "outputs": [],
   "source": [
    "#Feature Extraction and mel_spectogram function of librosa to extract the spectogram data as a numpy array\n",
    "feature = []\n",
    "label = []\n",
    "\n",
    "def parser():\n",
    "    # Function to load files and extract features\n",
    "    for i in tqdm(range(1,8732)):\n",
    "        file_name = 'UrbanSound8K/audio/fold' + str(df[\"fold\"][i]) + '/' + df[\"slice_file_name\"][i]\n",
    "        # Here kaiser_fast is a technique used for faster extraction\n",
    "        X, sample_rate = librosa.load(file_name, res_type='kaiser_fast') \n",
    "        # We extract mfcc feature from data , first extracting 3s per file....ie 22050*0.5=11025\n",
    "        #applying segmentation:\n",
    "        segment_1s=[X[ k*22050 : k*22050+22050 ] for k in range(int(len(X)/22050))]\n",
    "        for audio_1s in segment_1s:\n",
    "            mels = librosa.feature.melspectrogram(y=audio_1s, sr=sample_rate).T  \n",
    "            feature.append(mels)\n",
    "            label.append(df[\"classID\"][i])\n",
    "    return [feature,label]"
   ]
  },
  {
   "cell_type": "code",
   "execution_count": null,
   "metadata": {
    "id": "1j3MIfvN7G-B"
   },
   "outputs": [],
   "source": [
    "print(label[0])\n",
    "\n",
    "print(feature[0])"
   ]
  },
  {
   "cell_type": "code",
   "execution_count": 7,
   "metadata": {
    "colab": {
     "base_uri": "https://localhost:8080/"
    },
    "id": "scVQ2xbyejqL",
    "outputId": "994ca8aa-f18a-4cbf-9bd3-51cb685c311a"
   },
   "outputs": [
    {
     "name": "stderr",
     "output_type": "stream",
     "text": [
      "100%|██████████| 8731/8731 [14:40<00:00,  9.91it/s]\n"
     ]
    }
   ],
   "source": [
    "temp = parser()"
   ]
  },
  {
   "cell_type": "code",
   "execution_count": 8,
   "metadata": {
    "colab": {
     "base_uri": "https://localhost:8080/"
    },
    "id": "hCBJtw5Hej7u",
    "outputId": "37ca69db-0daa-440f-a85c-3ea17f04b936"
   },
   "outputs": [
    {
     "name": "stdout",
     "output_type": "stream",
     "text": [
      "CPU times: user 4.6 ms, sys: 4.49 ms, total: 9.08 ms\n",
      "Wall time: 4.61 ms\n"
     ]
    }
   ],
   "source": [
    "%%time\n",
    "\n",
    "temp = np.array(temp, dtype=object)\n",
    "data = temp.transpose()"
   ]
  },
  {
   "cell_type": "code",
   "execution_count": 9,
   "metadata": {
    "colab": {
     "base_uri": "https://localhost:8080/"
    },
    "id": "fZupFQ4nekHs",
    "outputId": "411f749b-fe00-4c30-8330-36732ba8b41c"
   },
   "outputs": [
    {
     "data": {
      "text/plain": [
       "(30825, 2)"
      ]
     },
     "execution_count": 9,
     "metadata": {},
     "output_type": "execute_result"
    }
   ],
   "source": [
    "data.shape"
   ]
  },
  {
   "cell_type": "code",
   "execution_count": 10,
   "metadata": {
    "colab": {
     "base_uri": "https://localhost:8080/"
    },
    "id": "FtOIKGSyekQN",
    "outputId": "48a3c681-01e3-43c8-a154-67cc63b37830"
   },
   "outputs": [
    {
     "name": "stdout",
     "output_type": "stream",
     "text": [
      "(30825,)\n",
      "(44, 128)\n",
      "(30825, 44, 128)\n"
     ]
    }
   ],
   "source": [
    "X_ = data[:, 0]\n",
    "Y = data[:, 1]\n",
    "#print(X_.shape, Y.shape)\n",
    "X = np.empty([X_.shape[0],44,128])\n",
    "\n",
    "print(X_.shape)\n",
    "print(X_[0].shape)\n",
    "print(X.shape)"
   ]
  },
  {
   "cell_type": "code",
   "execution_count": 11,
   "metadata": {
    "id": "2Sb1EaM-ekVs"
   },
   "outputs": [],
   "source": [
    "for i in range(len(X_)):\n",
    "    X[i] = X_[i]"
   ]
  },
  {
   "cell_type": "code",
   "execution_count": 12,
   "metadata": {
    "colab": {
     "base_uri": "https://localhost:8080/"
    },
    "id": "LvWiBZd_ezA8",
    "outputId": "8fd18e0a-0efd-4703-9dec-2e5af288e287"
   },
   "outputs": [
    {
     "data": {
      "text/plain": [
       "(44, 128)"
      ]
     },
     "execution_count": 12,
     "metadata": {},
     "output_type": "execute_result"
    }
   ],
   "source": [
    "X_[0].shape"
   ]
  },
  {
   "cell_type": "code",
   "execution_count": 13,
   "metadata": {
    "id": "WIaZLrN7e5Wr"
   },
   "outputs": [],
   "source": [
    "Y = to_categorical(Y, num_classes=10)"
   ]
  },
  {
   "cell_type": "code",
   "execution_count": 14,
   "metadata": {
    "colab": {
     "base_uri": "https://localhost:8080/"
    },
    "id": "MAMSvaN_e8po",
    "outputId": "4f5321e8-bcee-43e0-c97b-bab838e57d61"
   },
   "outputs": [
    {
     "name": "stdout",
     "output_type": "stream",
     "text": [
      "(30825, 44, 128)\n",
      "(30825, 10)\n"
     ]
    }
   ],
   "source": [
    "# Final Data\n",
    "print(X.shape)\n",
    "print(Y.shape)"
   ]
  },
  {
   "cell_type": "code",
   "execution_count": 15,
   "metadata": {
    "id": "qdO8_2Kge_Mn"
   },
   "outputs": [],
   "source": [
    "X_train, X_test, Y_train, Y_test = train_test_split(X, Y, random_state = 1)"
   ]
  },
  {
   "cell_type": "code",
   "execution_count": 16,
   "metadata": {
    "colab": {
     "base_uri": "https://localhost:8080/"
    },
    "id": "jo5EPCCKfC6i",
    "outputId": "1b378b8d-4425-4c36-f0ff-408fec49093e"
   },
   "outputs": [
    {
     "data": {
      "text/plain": [
       "7707"
      ]
     },
     "execution_count": 16,
     "metadata": {},
     "output_type": "execute_result"
    }
   ],
   "source": [
    "len(X_test)"
   ]
  },
  {
   "cell_type": "code",
   "execution_count": 17,
   "metadata": {
    "colab": {
     "base_uri": "https://localhost:8080/"
    },
    "id": "Z4ntd5EOfFXF",
    "outputId": "4b1794ee-b29c-47d7-bbc6-fd6a50d1140b"
   },
   "outputs": [
    {
     "name": "stdout",
     "output_type": "stream",
     "text": [
      "23118\n",
      "23118\n"
     ]
    }
   ],
   "source": [
    "print(len(X_train))\n",
    "print(len(Y_train))"
   ]
  },
  {
   "cell_type": "code",
   "execution_count": 18,
   "metadata": {
    "id": "OiTrek1yfIPl"
   },
   "outputs": [],
   "source": [
    "X_train = X_train.reshape(-1, 128, 44, 1)\n",
    "X_test = X_test.reshape(-1, 128, 44, 1)"
   ]
  },
  {
   "cell_type": "code",
   "execution_count": 19,
   "metadata": {
    "colab": {
     "base_uri": "https://localhost:8080/"
    },
    "id": "3Oh6HkOnfLI8",
    "outputId": "0ea365cf-e006-4af4-a3e7-ce057ffc3f37"
   },
   "outputs": [
    {
     "data": {
      "text/plain": [
       "7707"
      ]
     },
     "execution_count": 19,
     "metadata": {},
     "output_type": "execute_result"
    }
   ],
   "source": [
    "len(Y_test)"
   ]
  },
  {
   "cell_type": "code",
   "execution_count": 20,
   "metadata": {
    "id": "GX7-J8Y9fNY4"
   },
   "outputs": [],
   "source": [
    "input_dim = (128, 44, 1)"
   ]
  },
  {
   "cell_type": "code",
   "execution_count": 21,
   "metadata": {
    "id": "MAmBFh-kfPif"
   },
   "outputs": [],
   "source": [
    "#CREATING A KERAS MODEL AND TESTING\n",
    "\n",
    "model = Sequential()\n",
    "model.add(Conv2D(64, (3, 3), padding = \"same\", activation = \"relu\", input_shape = input_dim))\n",
    "model.add(MaxPool2D(pool_size=(2, 2)))\n",
    "model.add(Conv2D(128, (3, 3), padding = \"same\", activation = \"relu\"))\n",
    "model.add(MaxPool2D(pool_size=(2, 2)))\n",
    "model.add(Dropout(0.1))\n",
    "model.add(Flatten())\n",
    "model.add(Dense(1024, activation = \"relu\"))\n",
    "model.add(Dense(10, activation = \"softmax\"))"
   ]
  },
  {
   "cell_type": "code",
   "execution_count": 22,
   "metadata": {
    "id": "n3dlE4mgfSln"
   },
   "outputs": [],
   "source": [
    "model.compile(optimizer = 'adam', loss = 'categorical_crossentropy', metrics = ['accuracy'])"
   ]
  },
  {
   "cell_type": "code",
   "execution_count": 23,
   "metadata": {
    "colab": {
     "base_uri": "https://localhost:8080/"
    },
    "id": "b2XxhB1ufWmb",
    "outputId": "d2f46268-3cc3-494c-a798-5a5d56348937"
   },
   "outputs": [
    {
     "name": "stdout",
     "output_type": "stream",
     "text": [
      "Model: \"sequential\"\n",
      "_________________________________________________________________\n",
      " Layer (type)                Output Shape              Param #   \n",
      "=================================================================\n",
      " conv2d (Conv2D)             (None, 128, 44, 64)       640       \n",
      "                                                                 \n",
      " max_pooling2d (MaxPooling2D  (None, 64, 22, 64)       0         \n",
      " )                                                               \n",
      "                                                                 \n",
      " conv2d_1 (Conv2D)           (None, 64, 22, 128)       73856     \n",
      "                                                                 \n",
      " max_pooling2d_1 (MaxPooling  (None, 32, 11, 128)      0         \n",
      " 2D)                                                             \n",
      "                                                                 \n",
      " dropout (Dropout)           (None, 32, 11, 128)       0         \n",
      "                                                                 \n",
      " flatten (Flatten)           (None, 45056)             0         \n",
      "                                                                 \n",
      " dense (Dense)               (None, 1024)              46138368  \n",
      "                                                                 \n",
      " dense_1 (Dense)             (None, 10)                10250     \n",
      "                                                                 \n",
      "=================================================================\n",
      "Total params: 46,223,114\n",
      "Trainable params: 46,223,114\n",
      "Non-trainable params: 0\n",
      "_________________________________________________________________\n"
     ]
    }
   ],
   "source": [
    "model.summary()"
   ]
  },
  {
   "cell_type": "code",
   "execution_count": 24,
   "metadata": {
    "colab": {
     "base_uri": "https://localhost:8080/"
    },
    "id": "SW3A58D9fZF-",
    "outputId": "9dcd0966-b166-4432-9d83-0f0d11ae8d61"
   },
   "outputs": [
    {
     "name": "stdout",
     "output_type": "stream",
     "text": [
      "Epoch 1/90\n",
      "463/463 [==============================] - 62s 69ms/step - loss: 2.6790 - accuracy: 0.3456 - val_loss: 1.6188 - val_accuracy: 0.4418\n",
      "Epoch 2/90\n",
      "463/463 [==============================] - 33s 71ms/step - loss: 1.4122 - accuracy: 0.5177 - val_loss: 1.3421 - val_accuracy: 0.5542\n",
      "Epoch 3/90\n",
      "463/463 [==============================] - 31s 67ms/step - loss: 1.1322 - accuracy: 0.6166 - val_loss: 1.1399 - val_accuracy: 0.6364\n",
      "Epoch 4/90\n",
      "463/463 [==============================] - 31s 67ms/step - loss: 0.9173 - accuracy: 0.6956 - val_loss: 1.0287 - val_accuracy: 0.6844\n",
      "Epoch 5/90\n",
      "463/463 [==============================] - 33s 72ms/step - loss: 0.7979 - accuracy: 0.7426 - val_loss: 0.9986 - val_accuracy: 0.7352\n",
      "Epoch 6/90\n",
      "463/463 [==============================] - 31s 66ms/step - loss: 0.7004 - accuracy: 0.7803 - val_loss: 0.9494 - val_accuracy: 0.7506\n",
      "Epoch 7/90\n",
      "463/463 [==============================] - 31s 66ms/step - loss: 0.5684 - accuracy: 0.8165 - val_loss: 1.0627 - val_accuracy: 0.7584\n",
      "Epoch 8/90\n",
      "463/463 [==============================] - 31s 67ms/step - loss: 0.4901 - accuracy: 0.8435 - val_loss: 1.6956 - val_accuracy: 0.6709\n",
      "Epoch 9/90\n",
      "463/463 [==============================] - 33s 72ms/step - loss: 0.4299 - accuracy: 0.8653 - val_loss: 0.9905 - val_accuracy: 0.7838\n",
      "Epoch 10/90\n",
      "463/463 [==============================] - 33s 72ms/step - loss: 0.3604 - accuracy: 0.8877 - val_loss: 1.1741 - val_accuracy: 0.7845\n",
      "Epoch 11/90\n",
      "463/463 [==============================] - 31s 67ms/step - loss: 0.3404 - accuracy: 0.8944 - val_loss: 1.1712 - val_accuracy: 0.8058\n",
      "Epoch 12/90\n",
      "463/463 [==============================] - 31s 67ms/step - loss: 0.3119 - accuracy: 0.9061 - val_loss: 1.4890 - val_accuracy: 0.7683\n",
      "Epoch 13/90\n",
      "463/463 [==============================] - 31s 66ms/step - loss: 0.3061 - accuracy: 0.9093 - val_loss: 1.3541 - val_accuracy: 0.7622\n",
      "Epoch 14/90\n",
      "463/463 [==============================] - 31s 67ms/step - loss: 0.2908 - accuracy: 0.9103 - val_loss: 1.1302 - val_accuracy: 0.8191\n",
      "Epoch 15/90\n",
      "463/463 [==============================] - 31s 67ms/step - loss: 0.2649 - accuracy: 0.9224 - val_loss: 1.1985 - val_accuracy: 0.8113\n",
      "Epoch 16/90\n",
      "463/463 [==============================] - 33s 72ms/step - loss: 0.2228 - accuracy: 0.9326 - val_loss: 1.1490 - val_accuracy: 0.8221\n",
      "Epoch 17/90\n",
      "463/463 [==============================] - 31s 66ms/step - loss: 0.1885 - accuracy: 0.9416 - val_loss: 1.3209 - val_accuracy: 0.7969\n",
      "Epoch 18/90\n",
      "463/463 [==============================] - 30s 66ms/step - loss: 0.1671 - accuracy: 0.9461 - val_loss: 1.2836 - val_accuracy: 0.8315\n",
      "Epoch 19/90\n",
      "463/463 [==============================] - 31s 66ms/step - loss: 0.1526 - accuracy: 0.9516 - val_loss: 1.3948 - val_accuracy: 0.8212\n",
      "Epoch 20/90\n",
      "463/463 [==============================] - 30s 66ms/step - loss: 0.1975 - accuracy: 0.9437 - val_loss: 1.5329 - val_accuracy: 0.8250\n",
      "Epoch 21/90\n",
      "463/463 [==============================] - 30s 65ms/step - loss: 0.1916 - accuracy: 0.9457 - val_loss: 1.8789 - val_accuracy: 0.8180\n",
      "Epoch 22/90\n",
      "463/463 [==============================] - 30s 66ms/step - loss: 0.2345 - accuracy: 0.9429 - val_loss: 1.3688 - val_accuracy: 0.8211\n",
      "Epoch 23/90\n",
      "463/463 [==============================] - 31s 66ms/step - loss: 0.1431 - accuracy: 0.9594 - val_loss: 1.5342 - val_accuracy: 0.8351\n",
      "Epoch 24/90\n",
      "463/463 [==============================] - 31s 66ms/step - loss: 0.1681 - accuracy: 0.9548 - val_loss: 1.5587 - val_accuracy: 0.8357\n",
      "Epoch 25/90\n",
      "463/463 [==============================] - 30s 66ms/step - loss: 0.1522 - accuracy: 0.9577 - val_loss: 1.4437 - val_accuracy: 0.8327\n",
      "Epoch 26/90\n",
      "463/463 [==============================] - 30s 66ms/step - loss: 0.1182 - accuracy: 0.9625 - val_loss: 1.4926 - val_accuracy: 0.8383\n",
      "Epoch 27/90\n",
      "463/463 [==============================] - 31s 66ms/step - loss: 0.1178 - accuracy: 0.9628 - val_loss: 1.6100 - val_accuracy: 0.8451\n",
      "Epoch 28/90\n",
      "463/463 [==============================] - 31s 66ms/step - loss: 0.1999 - accuracy: 0.9523 - val_loss: 1.4002 - val_accuracy: 0.8299\n",
      "Epoch 29/90\n",
      "463/463 [==============================] - 30s 66ms/step - loss: 0.1403 - accuracy: 0.9609 - val_loss: 1.7433 - val_accuracy: 0.8398\n",
      "Epoch 30/90\n",
      "463/463 [==============================] - 30s 66ms/step - loss: 0.1134 - accuracy: 0.9666 - val_loss: 1.8155 - val_accuracy: 0.8409\n",
      "Epoch 31/90\n",
      "463/463 [==============================] - 33s 71ms/step - loss: 0.1006 - accuracy: 0.9675 - val_loss: 1.8089 - val_accuracy: 0.8382\n",
      "Epoch 32/90\n",
      "463/463 [==============================] - 30s 66ms/step - loss: 0.1194 - accuracy: 0.9653 - val_loss: 1.5972 - val_accuracy: 0.8439\n",
      "Epoch 33/90\n",
      "463/463 [==============================] - 33s 71ms/step - loss: 0.1043 - accuracy: 0.9692 - val_loss: 2.0433 - val_accuracy: 0.8398\n",
      "Epoch 34/90\n",
      "463/463 [==============================] - 33s 71ms/step - loss: 0.1011 - accuracy: 0.9689 - val_loss: 1.9850 - val_accuracy: 0.8369\n",
      "Epoch 35/90\n",
      "463/463 [==============================] - 31s 66ms/step - loss: 0.1822 - accuracy: 0.9638 - val_loss: 1.7925 - val_accuracy: 0.8412\n",
      "Epoch 36/90\n",
      "463/463 [==============================] - 31s 67ms/step - loss: 0.1586 - accuracy: 0.9667 - val_loss: 2.1248 - val_accuracy: 0.8241\n",
      "Epoch 37/90\n",
      "463/463 [==============================] - 31s 68ms/step - loss: 0.1161 - accuracy: 0.9690 - val_loss: 1.9394 - val_accuracy: 0.8379\n",
      "Epoch 38/90\n",
      "463/463 [==============================] - 32s 68ms/step - loss: 0.0738 - accuracy: 0.9759 - val_loss: 1.8631 - val_accuracy: 0.8526\n",
      "Epoch 39/90\n",
      "463/463 [==============================] - 34s 73ms/step - loss: 0.0636 - accuracy: 0.9779 - val_loss: 1.8708 - val_accuracy: 0.8465\n",
      "Epoch 40/90\n",
      "463/463 [==============================] - 32s 69ms/step - loss: 0.0769 - accuracy: 0.9767 - val_loss: 1.9275 - val_accuracy: 0.8561\n",
      "Epoch 41/90\n",
      "463/463 [==============================] - 32s 69ms/step - loss: 0.0803 - accuracy: 0.9768 - val_loss: 1.9553 - val_accuracy: 0.8529\n",
      "Epoch 42/90\n",
      "463/463 [==============================] - 32s 68ms/step - loss: 0.0947 - accuracy: 0.9734 - val_loss: 1.7938 - val_accuracy: 0.8322\n",
      "Epoch 43/90\n",
      "463/463 [==============================] - 34s 73ms/step - loss: 0.1642 - accuracy: 0.9634 - val_loss: 2.2985 - val_accuracy: 0.8300\n",
      "Epoch 44/90\n",
      "463/463 [==============================] - 34s 73ms/step - loss: 0.1473 - accuracy: 0.9693 - val_loss: 1.8421 - val_accuracy: 0.8491\n",
      "Epoch 45/90\n",
      "463/463 [==============================] - 32s 69ms/step - loss: 0.0613 - accuracy: 0.9804 - val_loss: 1.7175 - val_accuracy: 0.8525\n",
      "Epoch 46/90\n",
      "463/463 [==============================] - 32s 68ms/step - loss: 0.0656 - accuracy: 0.9811 - val_loss: 1.8584 - val_accuracy: 0.8534\n",
      "Epoch 47/90\n",
      "463/463 [==============================] - 32s 69ms/step - loss: 0.0714 - accuracy: 0.9808 - val_loss: 1.7259 - val_accuracy: 0.8565\n",
      "Epoch 48/90\n",
      "463/463 [==============================] - 32s 69ms/step - loss: 0.0673 - accuracy: 0.9784 - val_loss: 2.2819 - val_accuracy: 0.8401\n",
      "Epoch 49/90\n",
      "463/463 [==============================] - 32s 68ms/step - loss: 0.1686 - accuracy: 0.9677 - val_loss: 1.7641 - val_accuracy: 0.8517\n",
      "Epoch 50/90\n",
      "463/463 [==============================] - 31s 67ms/step - loss: 0.0573 - accuracy: 0.9823 - val_loss: 1.8394 - val_accuracy: 0.8556\n",
      "Epoch 51/90\n",
      "463/463 [==============================] - 33s 72ms/step - loss: 0.0475 - accuracy: 0.9833 - val_loss: 1.6875 - val_accuracy: 0.8568\n",
      "Epoch 52/90\n",
      "463/463 [==============================] - 33s 72ms/step - loss: 0.0464 - accuracy: 0.9832 - val_loss: 1.8745 - val_accuracy: 0.8574\n",
      "Epoch 53/90\n",
      "463/463 [==============================] - 31s 67ms/step - loss: 0.0525 - accuracy: 0.9823 - val_loss: 2.4741 - val_accuracy: 0.8416\n",
      "Epoch 54/90\n",
      "463/463 [==============================] - 31s 66ms/step - loss: 0.1021 - accuracy: 0.9782 - val_loss: 2.4291 - val_accuracy: 0.8449\n",
      "Epoch 55/90\n",
      "463/463 [==============================] - 31s 67ms/step - loss: 0.0657 - accuracy: 0.9823 - val_loss: 2.1309 - val_accuracy: 0.8492\n",
      "Epoch 56/90\n",
      "463/463 [==============================] - 31s 67ms/step - loss: 0.1219 - accuracy: 0.9759 - val_loss: 2.2460 - val_accuracy: 0.8491\n",
      "Epoch 57/90\n",
      "463/463 [==============================] - 31s 67ms/step - loss: 0.1276 - accuracy: 0.9761 - val_loss: 2.0193 - val_accuracy: 0.8408\n",
      "Epoch 58/90\n",
      "463/463 [==============================] - 31s 67ms/step - loss: 0.0497 - accuracy: 0.9829 - val_loss: 2.2705 - val_accuracy: 0.8521\n",
      "Epoch 59/90\n",
      "463/463 [==============================] - 31s 67ms/step - loss: 0.0466 - accuracy: 0.9852 - val_loss: 1.8825 - val_accuracy: 0.8601\n",
      "Epoch 60/90\n",
      "463/463 [==============================] - 31s 67ms/step - loss: 0.0378 - accuracy: 0.9867 - val_loss: 2.5006 - val_accuracy: 0.8503\n",
      "Epoch 61/90\n",
      "463/463 [==============================] - 34s 72ms/step - loss: 0.0942 - accuracy: 0.9782 - val_loss: 2.3460 - val_accuracy: 0.8518\n",
      "Epoch 62/90\n",
      "463/463 [==============================] - 31s 67ms/step - loss: 0.0704 - accuracy: 0.9819 - val_loss: 2.2693 - val_accuracy: 0.8431\n",
      "Epoch 63/90\n",
      "463/463 [==============================] - 31s 67ms/step - loss: 0.0593 - accuracy: 0.9816 - val_loss: 2.0077 - val_accuracy: 0.8534\n",
      "Epoch 64/90\n",
      "463/463 [==============================] - 31s 67ms/step - loss: 0.0571 - accuracy: 0.9859 - val_loss: 2.1994 - val_accuracy: 0.8439\n",
      "Epoch 65/90\n",
      "463/463 [==============================] - 31s 66ms/step - loss: 0.0609 - accuracy: 0.9823 - val_loss: 2.3110 - val_accuracy: 0.8552\n",
      "Epoch 66/90\n",
      "463/463 [==============================] - 31s 66ms/step - loss: 0.0873 - accuracy: 0.9802 - val_loss: 1.9013 - val_accuracy: 0.8583\n",
      "Epoch 67/90\n",
      "463/463 [==============================] - 31s 67ms/step - loss: 0.0470 - accuracy: 0.9866 - val_loss: 1.7647 - val_accuracy: 0.8641\n",
      "Epoch 68/90\n",
      "463/463 [==============================] - 33s 72ms/step - loss: 0.0330 - accuracy: 0.9888 - val_loss: 1.9642 - val_accuracy: 0.8691\n",
      "Epoch 69/90\n",
      "463/463 [==============================] - 31s 66ms/step - loss: 0.1062 - accuracy: 0.9796 - val_loss: 2.3167 - val_accuracy: 0.8418\n",
      "Epoch 70/90\n",
      "463/463 [==============================] - 31s 66ms/step - loss: 0.0509 - accuracy: 0.9849 - val_loss: 2.1550 - val_accuracy: 0.8566\n",
      "Epoch 71/90\n",
      "463/463 [==============================] - 31s 67ms/step - loss: 0.0332 - accuracy: 0.9883 - val_loss: 2.2169 - val_accuracy: 0.8530\n",
      "Epoch 72/90\n",
      "463/463 [==============================] - 31s 66ms/step - loss: 0.1915 - accuracy: 0.9750 - val_loss: 2.4231 - val_accuracy: 0.8547\n",
      "Epoch 73/90\n",
      "463/463 [==============================] - 31s 66ms/step - loss: 0.0533 - accuracy: 0.9863 - val_loss: 2.2106 - val_accuracy: 0.8600\n",
      "Epoch 74/90\n",
      "463/463 [==============================] - 31s 66ms/step - loss: 0.0462 - accuracy: 0.9876 - val_loss: 2.4935 - val_accuracy: 0.8638\n",
      "Epoch 75/90\n",
      "463/463 [==============================] - 31s 67ms/step - loss: 0.0329 - accuracy: 0.9894 - val_loss: 2.8106 - val_accuracy: 0.8520\n",
      "Epoch 76/90\n",
      "463/463 [==============================] - 31s 68ms/step - loss: 0.1494 - accuracy: 0.9792 - val_loss: 2.5314 - val_accuracy: 0.8630\n",
      "Epoch 77/90\n",
      "463/463 [==============================] - 33s 72ms/step - loss: 0.0738 - accuracy: 0.9841 - val_loss: 3.0146 - val_accuracy: 0.8647\n",
      "Epoch 78/90\n",
      "463/463 [==============================] - 31s 67ms/step - loss: 0.0320 - accuracy: 0.9896 - val_loss: 2.9830 - val_accuracy: 0.8608\n",
      "Epoch 79/90\n",
      "463/463 [==============================] - 33s 72ms/step - loss: 0.0825 - accuracy: 0.9852 - val_loss: 3.1117 - val_accuracy: 0.8500\n",
      "Epoch 80/90\n",
      "463/463 [==============================] - 31s 67ms/step - loss: 0.0736 - accuracy: 0.9856 - val_loss: 2.7548 - val_accuracy: 0.8630\n",
      "Epoch 81/90\n",
      "463/463 [==============================] - 31s 68ms/step - loss: 0.0422 - accuracy: 0.9901 - val_loss: 3.0383 - val_accuracy: 0.8575\n",
      "Epoch 82/90\n",
      "463/463 [==============================] - 33s 72ms/step - loss: 0.0353 - accuracy: 0.9883 - val_loss: 3.1035 - val_accuracy: 0.8549\n",
      "Epoch 83/90\n",
      "463/463 [==============================] - 31s 67ms/step - loss: 0.0489 - accuracy: 0.9871 - val_loss: 3.2172 - val_accuracy: 0.8520\n",
      "Epoch 84/90\n",
      "463/463 [==============================] - 31s 67ms/step - loss: 0.0312 - accuracy: 0.9901 - val_loss: 2.4653 - val_accuracy: 0.8606\n",
      "Epoch 85/90\n",
      "463/463 [==============================] - 31s 66ms/step - loss: 0.0212 - accuracy: 0.9921 - val_loss: 2.4932 - val_accuracy: 0.8612\n",
      "Epoch 86/90\n",
      "463/463 [==============================] - 31s 66ms/step - loss: 0.0653 - accuracy: 0.9859 - val_loss: 3.7788 - val_accuracy: 0.8575\n",
      "Epoch 87/90\n",
      "463/463 [==============================] - 31s 67ms/step - loss: 0.0888 - accuracy: 0.9829 - val_loss: 2.5878 - val_accuracy: 0.8596\n",
      "Epoch 88/90\n",
      "463/463 [==============================] - 31s 67ms/step - loss: 0.0403 - accuracy: 0.9894 - val_loss: 2.9047 - val_accuracy: 0.8619\n",
      "Epoch 89/90\n",
      "463/463 [==============================] - 33s 72ms/step - loss: 0.0271 - accuracy: 0.9902 - val_loss: 2.6780 - val_accuracy: 0.8487\n",
      "Epoch 90/90\n",
      "463/463 [==============================] - 31s 67ms/step - loss: 0.0472 - accuracy: 0.9894 - val_loss: 2.2572 - val_accuracy: 0.8556\n",
      "CPU times: user 33min 16s, sys: 2min 9s, total: 35min 26s\n",
      "Wall time: 48min 24s\n"
     ]
    }
   ],
   "source": [
    "%%time\n",
    "\n",
    "hist = model.fit(X_train, Y_train, epochs = 90, batch_size = 50, validation_data = (X_test, Y_test))"
   ]
  },
  {
   "cell_type": "code",
   "execution_count": 29,
   "metadata": {
    "colab": {
     "base_uri": "https://localhost:8080/",
     "height": 265
    },
    "id": "HT7zKy4i4U0h",
    "outputId": "109f2655-9456-4ea2-e4c9-d8e5706ec345"
   },
   "outputs": [
    {
     "data": {
      "image/png": "[encoded data removed]",
      "text/plain": [
       "<Figure size 432x288 with 1 Axes>"
      ]
     },
     "metadata": {
      "needs_background": "light"
     },
     "output_type": "display_data"
    }
   ],
   "source": [
    "metrics = hist.history\n",
    "plt.plot(hist.epoch, metrics['loss'],metrics['val_loss'])\n",
    "plt.legend(['loss','val_loss'])\n",
    "plt.show()"
   ]
  },
  {
   "cell_type": "code",
   "execution_count": 30,
   "metadata": {
    "colab": {
     "base_uri": "https://localhost:8080/",
     "height": 265
    },
    "id": "EebJbP734Vp_",
    "outputId": "796e5345-940b-416d-b002-acb074ed77a3"
   },
   "outputs": [
    {
     "data": {
      "image/png": "[encoded data removed]",
      "text/plain": [
       "<Figure size 432x288 with 1 Axes>"
      ]
     },
     "metadata": {
      "needs_background": "light"
     },
     "output_type": "display_data"
    }
   ],
   "source": [
    "metrics = hist.history\n",
    "plt.plot(hist.epoch, metrics['accuracy'],metrics['val_accuracy'])\n",
    "plt.legend(['accuracy','val_accuracy'])\n",
    "plt.show()"
   ]
  },
  {
   "cell_type": "code",
   "execution_count": 33,
   "metadata": {
    "colab": {
     "base_uri": "https://localhost:8080/"
    },
    "id": "SUN7d25n4kVR",
    "outputId": "01af8a95-a4b0-4320-8ef2-0b470640cb5f"
   },
   "outputs": [
    {
     "name": "stdout",
     "output_type": "stream",
     "text": [
      "Evaluate model with test data\n",
      "241/241 [==============================] - 3s 13ms/step - loss: 2.2572 - accuracy: 0.8556\n",
      "test loss: 2.2571816444396973\n",
      "test accuracy: 0.8555858135223389\n"
     ]
    }
   ],
   "source": [
    "# quick evaludate model\n",
    "print('Evaluate model with test data')\n",
    "score = model.evaluate(x=X_test,y=Y_test)\n",
    "\n",
    "print('test loss:', score[0])\n",
    "print('test accuracy:', score[1])"
   ]
  },
  {
   "cell_type": "code",
   "execution_count": 25,
   "metadata": {
    "colab": {
     "base_uri": "https://localhost:8080/"
    },
    "id": "wCXl4hSDfcls",
    "outputId": "f41465be-a3a3-4b76-fefb-39e7a5c2c9b5"
   },
   "outputs": [
    {
     "name": "stdout",
     "output_type": "stream",
     "text": [
      "241/241 [==============================] - 3s 13ms/step - loss: 2.2572 - accuracy: 0.8556\n",
      "[2.2571816444396973, 0.8555858135223389]\n"
     ]
    }
   ],
   "source": [
    "#Testing on test data\n",
    "predictions_1 = model.predict(X_test)\n",
    "score = model.evaluate(X_test, Y_test)\n",
    "print(score)"
   ]
  },
  {
   "cell_type": "code",
   "execution_count": 26,
   "metadata": {
    "colab": {
     "base_uri": "https://localhost:8080/"
    },
    "id": "nMYInzgxffzm",
    "outputId": "dc8c2add-b9fd-4243-a5b6-e22a668567b4"
   },
   "outputs": [
    {
     "name": "stdout",
     "output_type": "stream",
     "text": [
      "723/723 [==============================] - 10s 13ms/step - loss: 0.0626 - accuracy: 0.9888\n",
      "[0.06257101893424988, 0.988839864730835]\n"
     ]
    }
   ],
   "source": [
    "#testing on train data\n",
    "predictions_2 = model.predict(X_train)\n",
    "score = model.evaluate(X_train, Y_train)\n",
    "print(score)"
   ]
  },
  {
   "cell_type": "code",
   "execution_count": 36,
   "metadata": {
    "colab": {
     "base_uri": "https://localhost:8080/"
    },
    "id": "OiECAGP8fidL",
    "outputId": "17fee23c-00c6-4ae9-bff7-a8aa712b938f"
   },
   "outputs": [
    {
     "data": {
      "text/plain": [
       "array([[957,   0,  13,   6,   6,   8,   4,   4,   1,  28],\n",
       "       [  0, 204,   9,   5,   7,   7,   0,   1,   3,  15],\n",
       "       [ 18,   3, 731,  75,  17,  30,   2,   6,  27,  96],\n",
       "       [  8,   1,  75, 563,  15,  18,   3,   2,  41,  37],\n",
       "       [  3,   2,  10,   7, 750,   6,   4,  26,   5,  13],\n",
       "       [  7,   0,   7,   6,   6, 978,   0,   8,   2,   9],\n",
       "       [  0,   0,   0,   7,   2,   2,  95,   0,   7,   1],\n",
       "       [ 13,   0,   5,   2,  33,  10,   2, 775,   0,  18],\n",
       "       [ 10,   1,  12,  12,   8,  10,   0,   0, 792,  13],\n",
       "       [ 25,  12,  69,  36,  31,  23,   5,  15,  17, 749]])"
      ]
     },
     "execution_count": 36,
     "metadata": {},
     "output_type": "execute_result"
    }
   ],
   "source": [
    "#Priting confusion matrix to show accuracy \n",
    "from sklearn.metrics import confusion_matrix\n",
    "\n",
    "cm = confusion_matrix(Y_test.argmax(axis=1), predictions_1.argmax(axis=1))\n",
    "cm"
   ]
  },
  {
   "cell_type": "code",
   "execution_count": null,
   "metadata": {
    "id": "P73Mec0hLUGY"
   },
   "outputs": [],
   "source": []
  }
 ],
 "metadata": {
  "accelerator": "GPU",
  "colab": {
   "name": "ML4Audio.ipynb",
   "provenance": []
  },
  "kernelspec": {
   "display_name": "Python 3",
   "language": "python",
   "name": "python3"
  },
  "language_info": {
   "codemirror_mode": {
    "name": "ipython",
    "version": 3
   },
   "file_extension": ".py",
   "mimetype": "text/x-python",
   "name": "python",
   "nbconvert_exporter": "python",
   "pygments_lexer": "ipython3",
   "version": "3.7.11"
  }
 },
 "nbformat": 4,
 "nbformat_minor": 4
}
